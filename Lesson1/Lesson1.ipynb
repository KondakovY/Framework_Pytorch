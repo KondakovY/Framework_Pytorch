{
 "cells": [
  {
   "cell_type": "code",
   "execution_count": 35,
   "metadata": {
    "id": "1WDJ--aSL9fI"
   },
   "outputs": [],
   "source": [
    "import torch"
   ]
  },
  {
   "cell_type": "markdown",
   "metadata": {},
   "source": [
    "1. Создайте случайный FloatTensor размера 3x4x5"
   ]
  },
  {
   "cell_type": "code",
   "execution_count": 36,
   "metadata": {
    "colab": {
     "base_uri": "https://localhost:8080/"
    },
    "id": "SO6qPahsNVVU",
    "outputId": "e17fd22b-613c-487e-fea4-b3f523300c40"
   },
   "outputs": [
    {
     "data": {
      "text/plain": [
       "tensor([[[-1.5606, -0.5049,  0.6200, -0.5995, -0.5417],\n",
       "         [ 0.4957,  0.0108, -0.0875,  0.1748, -0.4492],\n",
       "         [-0.4592,  0.4547,  1.3015,  0.3985, -1.1603],\n",
       "         [-0.5737, -0.8639, -1.4462,  0.6224,  0.9626]],\n",
       "\n",
       "        [[-0.8601, -0.1488,  0.1389,  1.3602,  1.5311],\n",
       "         [-1.9783,  0.2973,  0.9620,  1.0573, -1.3132],\n",
       "         [-0.5653, -1.6451, -0.3727,  1.2291,  1.3904],\n",
       "         [-1.0392, -1.2950, -0.6406,  0.3588, -0.6097]],\n",
       "\n",
       "        [[ 1.4098, -1.0929, -2.2166,  0.3010, -1.2913],\n",
       "         [ 0.7134,  0.2307,  0.0887,  0.5035,  2.3086],\n",
       "         [ 0.5699,  0.3753, -0.5845, -1.5437,  1.2786],\n",
       "         [ 0.7093, -0.4611,  0.8300,  0.4885,  0.4068]]])"
      ]
     },
     "execution_count": 36,
     "metadata": {},
     "output_type": "execute_result"
    }
   ],
   "source": [
    "float_tensor = torch.randn(3, 4, 5).float()\n",
    "float_tensor"
   ]
  },
  {
   "cell_type": "markdown",
   "metadata": {},
   "source": [
    "2. Выведите его форму (shape)"
   ]
  },
  {
   "cell_type": "code",
   "execution_count": 37,
   "metadata": {
    "colab": {
     "base_uri": "https://localhost:8080/"
    },
    "id": "h01-PQPMNVYO",
    "outputId": "bad5a22e-9d6f-43a6-b323-d40960fe7f18"
   },
   "outputs": [
    {
     "data": {
      "text/plain": [
       "torch.Size([3, 4, 5])"
      ]
     },
     "execution_count": 37,
     "metadata": {},
     "output_type": "execute_result"
    }
   ],
   "source": [
    "float_tensor.shape"
   ]
  },
  {
   "cell_type": "markdown",
   "metadata": {},
   "source": [
    "3. Приведите его к форме 6х10"
   ]
  },
  {
   "cell_type": "code",
   "execution_count": 38,
   "metadata": {
    "colab": {
     "base_uri": "https://localhost:8080/"
    },
    "id": "tYfW9tDBNVbE",
    "outputId": "17d514cf-5385-4534-8d71-67b77817d03e"
   },
   "outputs": [
    {
     "data": {
      "text/plain": [
       "torch.Size([6, 10])"
      ]
     },
     "execution_count": 38,
     "metadata": {},
     "output_type": "execute_result"
    }
   ],
   "source": [
    "float_tensor = float_tensor.reshape(6, 10)\n",
    "float_tensor.size()"
   ]
  },
  {
   "cell_type": "markdown",
   "metadata": {},
   "source": [
    "4. Создайте случайный IntTensor размера 10"
   ]
  },
  {
   "cell_type": "code",
   "execution_count": 39,
   "metadata": {
    "colab": {
     "base_uri": "https://localhost:8080/"
    },
    "id": "AInQ1YpvNVeG",
    "outputId": "5f379653-1836-4d07-e5f6-22deb6b7f8ca"
   },
   "outputs": [
    {
     "data": {
      "text/plain": [
       "tensor([ 0,  0,  0,  0,  1,  1,  0,  0,  1, -1], dtype=torch.int32)"
      ]
     },
     "execution_count": 39,
     "metadata": {},
     "output_type": "execute_result"
    }
   ],
   "source": [
    "int_tensor = torch.randn(10).int()\n",
    "int_tensor"
   ]
  },
  {
   "cell_type": "markdown",
   "metadata": {},
   "source": [
    "5. Умножьте созданный FloatTensor на созданный IntTensor поэлементно"
   ]
  },
  {
   "cell_type": "code",
   "execution_count": 40,
   "metadata": {
    "colab": {
     "base_uri": "https://localhost:8080/"
    },
    "id": "YE0VAkY8Onua",
    "outputId": "fff494e7-f554-4c32-9d2e-95a1c8c74ab5"
   },
   "outputs": [
    {
     "data": {
      "text/plain": [
       "tensor([[-0.0000, -0.0000,  0.0000, -0.0000, -0.5417,  0.4957,  0.0000, -0.0000,\n",
       "          0.1748,  0.4492],\n",
       "        [-0.0000,  0.0000,  0.0000,  0.0000, -1.1603, -0.5737, -0.0000, -0.0000,\n",
       "          0.6224, -0.9626],\n",
       "        [-0.0000, -0.0000,  0.0000,  0.0000,  1.5311, -1.9783,  0.0000,  0.0000,\n",
       "          1.0573,  1.3132],\n",
       "        [-0.0000, -0.0000, -0.0000,  0.0000,  1.3904, -1.0392, -0.0000, -0.0000,\n",
       "          0.3588,  0.6097],\n",
       "        [ 0.0000, -0.0000, -0.0000,  0.0000, -1.2913,  0.7134,  0.0000,  0.0000,\n",
       "          0.5035, -2.3086],\n",
       "        [ 0.0000,  0.0000, -0.0000, -0.0000,  1.2786,  0.7093, -0.0000,  0.0000,\n",
       "          0.4885, -0.4068]])"
      ]
     },
     "execution_count": 40,
     "metadata": {},
     "output_type": "execute_result"
    }
   ],
   "source": [
    "float_tensor * int_tensor"
   ]
  },
  {
   "cell_type": "markdown",
   "metadata": {},
   "source": [
    "6. Умножьте тензор матрично на себя, чтобы результат был размерности 6x6"
   ]
  },
  {
   "cell_type": "code",
   "execution_count": 41,
   "metadata": {
    "colab": {
     "base_uri": "https://localhost:8080/"
    },
    "id": "R6nWnkh4On1t",
    "outputId": "57275365-6823-433d-d2b0-619683285be4"
   },
   "outputs": [
    {
     "data": {
      "text/plain": [
       "torch.Size([6, 6])"
      ]
     },
     "execution_count": 41,
     "metadata": {},
     "output_type": "execute_result"
    }
   ],
   "source": [
    "mm_tensor = float_tensor.mm(float_tensor.T)\n",
    "mm_tensor.shape"
   ]
  },
  {
   "cell_type": "markdown",
   "metadata": {},
   "source": [
    "7. Посчитайте производную функции y = x**3 + z - 75t в точке (1, 0.5, 2)"
   ]
  },
  {
   "cell_type": "code",
   "execution_count": 42,
   "metadata": {
    "colab": {
     "base_uri": "https://localhost:8080/"
    },
    "id": "6af4WjRcOn4p",
    "outputId": "35a949e1-172a-4659-91bd-7686b6f89486"
   },
   "outputs": [
    {
     "data": {
      "text/plain": [
       "(tensor([3.]), tensor([1.]), tensor([-75.]))"
      ]
     },
     "execution_count": 42,
     "metadata": {},
     "output_type": "execute_result"
    }
   ],
   "source": [
    "x = torch.tensor([1.0], requires_grad=True)\n",
    "z = torch.tensor([0.5], requires_grad=True)\n",
    "t = torch.tensor([2.0], requires_grad=True)\n",
    "\n",
    "y = (x**3) + z - 75 * t\n",
    "y.backward()\n",
    "x.grad, z.grad, t.grad"
   ]
  },
  {
   "cell_type": "markdown",
   "metadata": {},
   "source": [
    "8. Создайте единичный тензор размера 5x6"
   ]
  },
  {
   "cell_type": "code",
   "execution_count": 43,
   "metadata": {
    "id": "R7d-5j99OqP3"
   },
   "outputs": [],
   "source": [
    "nm_tensor = torch.randn(5, 6)"
   ]
  },
  {
   "cell_type": "markdown",
   "metadata": {},
   "source": [
    "9. Переведите его в формат numpy"
   ]
  },
  {
   "cell_type": "code",
   "execution_count": 44,
   "metadata": {
    "colab": {
     "base_uri": "https://localhost:8080/"
    },
    "id": "LhQAlStTOqSz",
    "outputId": "6ed5f56e-3391-41cf-e734-d0519e1d63d8"
   },
   "outputs": [
    {
     "data": {
      "text/plain": [
       "array([[-0.27715704, -1.2156173 ,  1.4350245 ,  0.59014773,  0.2618481 ,\n",
       "         0.7262905 ],\n",
       "       [-0.46999007,  0.16676185,  1.3453358 ,  1.4653674 ,  0.067793  ,\n",
       "        -0.6525212 ],\n",
       "       [-0.38039345, -1.586077  ,  0.02974742, -0.45338622,  0.3431252 ,\n",
       "         1.6733127 ],\n",
       "       [-1.0617934 ,  1.2676495 , -1.0438993 ,  1.4749331 ,  0.66691023,\n",
       "         1.1344045 ],\n",
       "       [ 0.31728905,  1.0538183 ,  0.07031902, -0.21018213, -0.32015094,\n",
       "         2.7914813 ]], dtype=float32)"
      ]
     },
     "execution_count": 44,
     "metadata": {},
     "output_type": "execute_result"
    }
   ],
   "source": [
    "nm_tensor.numpy()"
   ]
  }
 ],
 "metadata": {
  "accelerator": "GPU",
  "colab": {
   "authorship_tag": "ABX9TyOO6CyFg0OFak+TfQiw4mad",
   "include_colab_link": true,
   "name": "Untitled0.ipynb",
   "provenance": []
  },
  "gpuClass": "standard",
  "kernelspec": {
   "display_name": "Python 3 (ipykernel)",
   "language": "python",
   "name": "python3"
  },
  "language_info": {
   "codemirror_mode": {
    "name": "ipython",
    "version": 3
   },
   "file_extension": ".py",
   "mimetype": "text/x-python",
   "name": "python",
   "nbconvert_exporter": "python",
   "pygments_lexer": "ipython3",
   "version": "3.9.7"
  }
 },
 "nbformat": 4,
 "nbformat_minor": 1
}
